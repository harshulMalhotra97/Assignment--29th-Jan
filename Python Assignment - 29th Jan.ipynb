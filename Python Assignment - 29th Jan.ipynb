{
 "cells": [
  {
   "cell_type": "markdown",
   "id": "758ecdaf",
   "metadata": {},
   "source": [
    "## Python Assignment - 29th Jan"
   ]
  },
  {
   "cell_type": "markdown",
   "id": "70b6305e",
   "metadata": {},
   "source": [
    "#### 1) Who developed python programming language?\n",
    "##### Guido van rossum, and released its first versions in 1991 as Python 0.9.0."
   ]
  },
  {
   "cell_type": "markdown",
   "id": "e03900f2",
   "metadata": {},
   "source": [
    "#### 2) Which type of programming does python support?\n",
    "##### Python supports structured(procedural), unstructured(scripting), object oriented programming(OOP) and functional programming. "
   ]
  },
  {
   "cell_type": "markdown",
   "id": "a72f3b97",
   "metadata": {},
   "source": [
    "#### 3) Is python case sensitive when dealing with identifiers?\n",
    "##### Yes"
   ]
  },
  {
   "cell_type": "markdown",
   "id": "6f676a05",
   "metadata": {},
   "source": [
    "#### 4) What is correct extension of python file?\n",
    "##### Extension of python file is '.py'."
   ]
  },
  {
   "cell_type": "markdown",
   "id": "493eddd8",
   "metadata": {},
   "source": [
    "#### 5) Is python code compiled or interpreted?\n",
    "##### Interpreted"
   ]
  },
  {
   "cell_type": "markdown",
   "id": "cfa22f68",
   "metadata": {},
   "source": [
    "#### 6) Name a few blocks of code used to define in python language?\n",
    "##### A block in python is executed as one unit eg- Function , Class and Module are examples of blocks."
   ]
  },
  {
   "cell_type": "markdown",
   "id": "a7338906",
   "metadata": {},
   "source": [
    "#### 7) State a character used to give single-line comment in python?\n",
    "##### # (Pound sign) is used to give single line comment in python. "
   ]
  },
  {
   "cell_type": "markdown",
   "id": "4cfc4915",
   "metadata": {},
   "source": [
    "#### 8) Mention the functions that help us to find the version of python we are currently working on ?\n",
    "##### a) sys.version method (defined in sys module)\n",
    "##### b) python_version () (defined in platform module)\n",
    "##### c) python -v command to be run terminal."
   ]
  },
  {
   "cell_type": "markdown",
   "id": "3a957057",
   "metadata": {},
   "source": [
    "#### 9) Python supports the creation of anonymous function at runtime, using a construct called ?\n",
    "##### Lambda "
   ]
  },
  {
   "cell_type": "markdown",
   "id": "262e01d1",
   "metadata": {},
   "source": [
    "#### 10) What does pip stands for python?\n",
    "##### Pip is a package-management system written in python and is used to install and manage software packages,\n",
    "##### Eg- when to install flask in our system we use pip package after creating a virtual env(i.e. pip install flask)."
   ]
  },
  {
   "cell_type": "markdown",
   "id": "1a6ad2c7",
   "metadata": {},
   "source": [
    "#### 11) Mention a few built in function in python?\n",
    "##### type(), hex(), id(), print(), input() etc."
   ]
  },
  {
   "cell_type": "markdown",
   "id": "3f768229",
   "metadata": {},
   "source": [
    "#### 12) What is the maximum possible length of an identifier in python?\n",
    "##### 79 Characters "
   ]
  },
  {
   "cell_type": "markdown",
   "id": "8d603cfe",
   "metadata": {},
   "source": [
    "#### 13) What are the benefits of using python?\n",
    "##### Python is high level general purpose programming language and can be used  in various fields like  Data Science, Machine learning, Web Development , Web Scrapping , Pen testing and Automation testing etc."
   ]
  },
  {
   "cell_type": "markdown",
   "id": "36a52525",
   "metadata": {},
   "source": [
    "#### 14) How is memory managed in python?\n",
    "##### In Python everything is an object and therefore python uses its manager i.e. Python Memory Manager for its memory management. Memory in Python is managed by -- Reference counting . Storing and retrieving objects from heap is taken care by Python memory manager.But it fails in case of circular references. Therefore to avoid memory leaks due to circular references created in our program  here comes Garbage collector.Garbage collector look for circular references in our code and clean them up so that memory leaks goes away.\n",
    " \n",
    " "
   ]
  },
  {
   "cell_type": "markdown",
   "id": "a7baca78",
   "metadata": {},
   "source": [
    "#### 15) How to install python on windows and set path variables?\n",
    "##### Go to python.org and click link to latest python version available and after complete download go to python download folder and go inside scripts folder and copy entire path to that directory. Then on system search bar type edit  the system environments variables and click on environment variables tab. Then select path variable(either for a user / or complete system) and then paste the path there which was intially copied inside python scripts folder."
   ]
  },
  {
   "cell_type": "markdown",
   "id": "8b568f55",
   "metadata": {},
   "source": [
    "#### 16) Is indentation required in python?\n",
    "##### Yes identation is required in python and if not followed will give an indentation errror."
   ]
  },
  {
   "cell_type": "code",
   "execution_count": null,
   "id": "5a854ad4",
   "metadata": {},
   "outputs": [],
   "source": []
  }
 ],
 "metadata": {
  "kernelspec": {
   "display_name": "Python 3 (ipykernel)",
   "language": "python",
   "name": "python3"
  },
  "language_info": {
   "codemirror_mode": {
    "name": "ipython",
    "version": 3
   },
   "file_extension": ".py",
   "mimetype": "text/x-python",
   "name": "python",
   "nbconvert_exporter": "python",
   "pygments_lexer": "ipython3",
   "version": "3.9.13"
  }
 },
 "nbformat": 4,
 "nbformat_minor": 5
}
